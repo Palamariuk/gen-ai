{
 "metadata": {
  "kernelspec": {
   "language": "python",
   "display_name": "Python 3",
   "name": "python3"
  },
  "language_info": {
   "name": "python",
   "version": "3.10.12",
   "mimetype": "text/x-python",
   "codemirror_mode": {
    "name": "ipython",
    "version": 3
   },
   "pygments_lexer": "ipython3",
   "nbconvert_exporter": "python",
   "file_extension": ".py"
  },
  "kaggle": {
   "accelerator": "none",
   "dataSources": [
    {
     "sourceId": 90189,
     "databundleVersionId": 10460083,
     "sourceType": "competition"
    }
   ],
   "dockerImageVersionId": 30840,
   "isInternetEnabled": true,
   "language": "python",
   "sourceType": "notebook",
   "isGpuEnabled": false
  }
 },
 "nbformat_minor": 4,
 "nbformat": 4,
 "cells": [
  {
   "cell_type": "code",
   "source": [
    "import pandas as pd\n",
    "from unsloth import FastLanguageModel\n",
    "import torch\n",
    "from datasets import Dataset\n",
    "import random\n",
    "\n",
    "from tqdm import tqdm\n",
    "tqdm.pandas()"
   ],
   "metadata": {
    "trusted": true,
    "execution": {
     "iopub.status.busy": "2025-01-16T21:30:40.419611Z",
     "iopub.execute_input": "2025-01-16T21:30:40.419948Z",
     "iopub.status.idle": "2025-01-16T21:30:40.424883Z",
     "shell.execute_reply.started": "2025-01-16T21:30:40.419920Z",
     "shell.execute_reply": "2025-01-16T21:30:40.423701Z"
    },
    "ExecuteTime": {
     "end_time": "2025-01-18T20:26:40.710789Z",
     "start_time": "2025-01-18T20:26:40.707799Z"
    }
   },
   "outputs": [],
   "execution_count": 5
  },
  {
   "cell_type": "code",
   "source": [
    "max_seq_length = 2048 # Choose any! We auto support RoPE Scaling internally!\n",
    "dtype = None # None for auto detection. Float16 for Tesla T4, V100, Bfloat16 for Ampere+\n",
    "load_in_4bit = True # Use 4bit quantization to reduce memory usage. Can be False.\n",
    "\n",
    "# BASE_PATH = '/kaggle/input/gen-ai-ucu-2024-task-3'\n",
    "BASE_PATH = 'data'"
   ],
   "metadata": {
    "trusted": true,
    "execution": {
     "iopub.status.busy": "2025-01-16T21:13:29.485773Z",
     "iopub.execute_input": "2025-01-16T21:13:29.486104Z",
     "iopub.status.idle": "2025-01-16T21:13:29.490169Z",
     "shell.execute_reply.started": "2025-01-16T21:13:29.486078Z",
     "shell.execute_reply": "2025-01-16T21:13:29.489341Z"
    },
    "ExecuteTime": {
     "end_time": "2025-01-18T20:26:41.523644Z",
     "start_time": "2025-01-18T20:26:41.520484Z"
    }
   },
   "outputs": [],
   "execution_count": 6
  },
  {
   "metadata": {
    "ExecuteTime": {
     "end_time": "2025-01-18T20:26:41.974997Z",
     "start_time": "2025-01-18T20:26:41.921048Z"
    }
   },
   "cell_type": "code",
   "source": [
    "train_df = pd.read_json(f\"{BASE_PATH}/zno.train.jsonl\", lines=True)\n",
    "test_df = pd.read_json(f\"{BASE_PATH}/zno.test.jsonl\", lines=True)"
   ],
   "outputs": [],
   "execution_count": 7
  },
  {
   "cell_type": "code",
   "source": [
    "# \"unsloth/Qwen2.5-0.5B\", \"unsloth/Qwen2.5-1.5B\", \"unsloth/Qwen2.5-3B\"\n",
    "# \"unsloth/Qwen2.5-14B\",  \"unsloth/Qwen2.5-32B\",  \"unsloth/Qwen2.5-72B\",\n",
    "MODEL_NAME = \"unsloth/Qwen2.5-7B\"\n",
    "\n",
    "model, tokenizer = FastLanguageModel.from_pretrained(\n",
    "    model_name = MODEL_NAME,\n",
    "    max_seq_length = 2048,\n",
    "    dtype = None, # None for auto detection.\n",
    "    load_in_4bit = True, # 4bit quantization to reduce memory usage\n",
    ")"
   ],
   "metadata": {
    "trusted": true,
    "execution": {
     "iopub.status.busy": "2025-01-16T20:51:24.247089Z",
     "iopub.execute_input": "2025-01-16T20:51:24.247426Z",
     "iopub.status.idle": "2025-01-16T20:51:46.376535Z",
     "shell.execute_reply.started": "2025-01-16T20:51:24.247398Z",
     "shell.execute_reply": "2025-01-16T20:51:46.375353Z"
    },
    "ExecuteTime": {
     "end_time": "2025-01-18T20:26:49.167388Z",
     "start_time": "2025-01-18T20:26:42.227147Z"
    }
   },
   "outputs": [
    {
     "name": "stdout",
     "output_type": "stream",
     "text": [
      "==((====))==  Unsloth 2025.1.5: Fast Qwen2 patching. Transformers: 4.48.0.\n",
      "   \\\\   /|    GPU: NVIDIA GeForce RTX 3090. Max memory: 23.691 GB. Platform: Linux.\n",
      "O^O/ \\_/ \\    Torch: 2.5.1+cu124. CUDA: 8.6. CUDA Toolkit: 12.4. Triton: 3.1.0\n",
      "\\        /    Bfloat16 = TRUE. FA [Xformers = 0.0.29.post1. FA2 = False]\n",
      " \"-____-\"     Free Apache license: http://github.com/unslothai/unsloth\n",
      "Unsloth: Fast downloading is enabled - ignore downloading bars which are red colored!\n"
     ]
    }
   ],
   "execution_count": 8
  },
  {
   "cell_type": "code",
   "source": [
    "model = FastLanguageModel.get_peft_model(\n",
    "    model,\n",
    "    r = 16,\n",
    "    target_modules = [\"q_proj\", \"k_proj\", \"v_proj\", \"o_proj\",\n",
    "                      \"gate_proj\", \"up_proj\", \"down_proj\",],\n",
    "    lora_alpha = 16,\n",
    "    lora_dropout = 0, # Supports any, but = 0 is optimized\n",
    "    bias = \"none\",    # Supports any, but = \"none\" is optimized\n",
    "    use_gradient_checkpointing = \"unsloth\", # True or \"unsloth\" for very long context\n",
    "    random_state = 3407,\n",
    "    use_rslora = False,  # Rank stabilized LoRA is supported\n",
    "    loftq_config = None, # And LoftQ\n",
    ")"
   ],
   "metadata": {
    "trusted": true,
    "execution": {
     "iopub.status.busy": "2025-01-16T20:51:52.133160Z",
     "iopub.execute_input": "2025-01-16T20:51:52.133609Z",
     "iopub.status.idle": "2025-01-16T20:51:58.548507Z",
     "shell.execute_reply.started": "2025-01-16T20:51:52.133571Z",
     "shell.execute_reply": "2025-01-16T20:51:58.547761Z"
    },
    "ExecuteTime": {
     "end_time": "2025-01-18T20:26:52.331922Z",
     "start_time": "2025-01-18T20:26:49.214238Z"
    }
   },
   "outputs": [
    {
     "name": "stderr",
     "output_type": "stream",
     "text": [
      "Unsloth 2025.1.5 patched 28 layers with 28 QKV layers, 28 O layers and 28 MLP layers.\n"
     ]
    }
   ],
   "execution_count": 9
  },
  {
   "metadata": {
    "ExecuteTime": {
     "end_time": "2025-01-18T20:26:53.643582Z",
     "start_time": "2025-01-18T20:26:53.640964Z"
    }
   },
   "cell_type": "code",
   "source": [
    "zno_prompt = \"\"\"Below is a question about Ukrainian history, language and literature. Select the correct answer from the provided options.\n",
    "\n",
    "### Question:\n",
    "{}\n",
    "\n",
    "### Options:\n",
    "{}\n",
    "\n",
    "### Correct Answer:\n",
    "{}\"\"\""
   ],
   "outputs": [],
   "execution_count": 10
  },
  {
   "metadata": {
    "ExecuteTime": {
     "end_time": "2025-01-18T20:26:54.167457Z",
     "start_time": "2025-01-18T20:26:54.162786Z"
    }
   },
   "cell_type": "code",
   "source": [
    "def solve_task(row):\n",
    "    question = row['question']\n",
    "    options = ','.join([f\"[{option['marker']}] {option['text']}\" for option in row['answers']])\n",
    "\n",
    "    inputs = tokenizer([zno_prompt.format(question, options, \"\",)], return_tensors = \"pt\").to(\"cuda\")\n",
    "    outputs = model.generate(**inputs, max_new_tokens=3, use_cache=True)\n",
    "    outputs = tokenizer.batch_decode(outputs)\n",
    "    result = outputs[0].split(\"Correct Answer:\\n\")[1]\n",
    "    return [result[1]]"
   ],
   "outputs": [],
   "execution_count": 11
  },
  {
   "cell_type": "code",
   "source": [
    "FastLanguageModel.for_inference(model)\n",
    "inputs = tokenizer(\n",
    "[\n",
    "    zno_prompt.format(\n",
    "        'Позначте рядок, у якому в усіх словах потрібно писати літеру *и*', # instruction\n",
    "        '(А) бад..лина, благоч..стивий, кр..хкий, ж..виця;,(Б) вар..во, меж..річчя, вич..пурений, кр..шталь;,(В) п’ят..річка, заруч..ни, нев..димка, обітн..ця;,(Г) зач..нати, виконав..ця, знів..чити, вел..чина;,(Д) нож..чок, печ..во, викор..нити, оз..ратися.', # input\n",
    "        \"\",\n",
    "    )\n",
    "], return_tensors = \"pt\").to(\"cuda\")\n",
    "\n",
    "outputs = model.generate(**inputs, max_new_tokens = 3, use_cache = True)\n",
    "tokenizer.batch_decode(outputs)"
   ],
   "metadata": {
    "trusted": true,
    "execution": {
     "iopub.status.busy": "2025-01-16T21:01:31.223885Z",
     "iopub.execute_input": "2025-01-16T21:01:31.224276Z",
     "iopub.status.idle": "2025-01-16T21:01:31.831786Z",
     "shell.execute_reply.started": "2025-01-16T21:01:31.224228Z",
     "shell.execute_reply": "2025-01-16T21:01:31.831060Z"
    },
    "ExecuteTime": {
     "end_time": "2025-01-18T20:26:55.678917Z",
     "start_time": "2025-01-18T20:26:54.571123Z"
    }
   },
   "outputs": [
    {
     "data": {
      "text/plain": [
       "['Below is a question about Ukrainian history, language and literature. Select the correct answer from the provided options.\\n\\n### Question:\\nПозначте рядок, у якому в усіх словах потрібно писати літеру *и*\\n\\n### Options:\\n(А) бад..лина, благоч..стивий, кр..хкий, ж..виця;,(Б) вар..во, меж..річчя, вич..пурений, кр..шталь;,(В) п’ят..річка, заруч..ни, нев..димка, обітн..ця;,(Г) зач..нати, виконав..ця, знів..чити, вел..чина;,(Д) нож..чок, печ..во, викор..нити, оз..ратися.\\n\\n### Correct Answer:\\n(В)']"
      ]
     },
     "execution_count": 12,
     "metadata": {},
     "output_type": "execute_result"
    }
   ],
   "execution_count": 12
  },
  {
   "cell_type": "code",
   "source": [
    "submission_df = test_df.copy()\n",
    "submission_df['correct_answers'] = test_df.progress_apply(solve_task, axis=1)\n",
    "submission_df"
   ],
   "metadata": {
    "trusted": true,
    "execution": {
     "iopub.status.busy": "2025-01-16T21:25:47.930730Z",
     "iopub.execute_input": "2025-01-16T21:25:47.931063Z",
     "iopub.status.idle": "2025-01-16T21:25:47.955027Z",
     "shell.execute_reply.started": "2025-01-16T21:25:47.931035Z",
     "shell.execute_reply": "2025-01-16T21:25:47.954252Z"
    },
    "ExecuteTime": {
     "end_time": "2025-01-18T20:29:18.057881Z",
     "start_time": "2025-01-18T20:27:00.693490Z"
    }
   },
   "outputs": [
    {
     "name": "stderr",
     "output_type": "stream",
     "text": [
      "100%|██████████| 751/751 [02:17<00:00,  5.47it/s]\n"
     ]
    },
    {
     "data": {
      "text/plain": [
       "                                              question  \\\n",
       "0    «Сміхом крізь сльози» можна схарактеризувати з...   \n",
       "1    Удовин син, мати, сестра, кохана – ключові обр...   \n",
       "2    В уривку з історичного джерела «*Створивши бан...   \n",
       "3    В уривку\\n\\n\\n*Доки буде жити Україна\\n\\nВ теп...   \n",
       "4    Букву ***и*** на місці пропуску треба писати в...   \n",
       "..                                                 ...   \n",
       "746  Укажіть правильний варіант послідовного заповн...   \n",
       "747  **Проаналізуйте фрагмент історичного документа...   \n",
       "748  Прочитайте речення *(цифра позначає наступне с...   \n",
       "749  Граматично правильне продовження речення «*Пер...   \n",
       "750  Прочитайте уривок джерела.\\n\\n\\n«*У Московщині...   \n",
       "\n",
       "                                               answers  \\\n",
       "0    [{'marker': 'А', 'text': '«Три зозулі з поклон...   \n",
       "1    [{'marker': 'А', 'text': '«Засвіт встали козач...   \n",
       "2    [{'marker': 'А', 'text': 'Правобережної Україн...   \n",
       "3    [{'marker': 'А', 'text': 'Василя Стефаника'}, ...   \n",
       "4    [{'marker': 'А', 'text': 'пр….хований, пр…звис...   \n",
       "..                                                 ...   \n",
       "746  [{'marker': 'А', 'text': 'дієвих прийомів, які...   \n",
       "747  [{'marker': 'А', 'text': 'Українська головна в...   \n",
       "748  [{'marker': 'А', 'text': '3, 4, 5, 10'}, {'mar...   \n",
       "749  [{'marker': 'А', 'text': 'мені пригадалися дав...   \n",
       "750  [{'marker': 'А', 'text': 'Зборівського договор...   \n",
       "\n",
       "                               subject   id correct_answers  \n",
       "0    ukrainian-language-and-literature    0             [Б]  \n",
       "1    ukrainian-language-and-literature    1             [В]  \n",
       "2                   history-of-ukraine    2             [А]  \n",
       "3    ukrainian-language-and-literature    3             [Д]  \n",
       "4    ukrainian-language-and-literature    4             [В]  \n",
       "..                                 ...  ...             ...  \n",
       "746  ukrainian-language-and-literature  746             [Г]  \n",
       "747                 history-of-ukraine  747             [Г]  \n",
       "748  ukrainian-language-and-literature  748             [В]  \n",
       "749  ukrainian-language-and-literature  749             [А]  \n",
       "750                 history-of-ukraine  750             [А]  \n",
       "\n",
       "[751 rows x 5 columns]"
      ],
      "text/html": [
       "<div>\n",
       "<style scoped>\n",
       "    .dataframe tbody tr th:only-of-type {\n",
       "        vertical-align: middle;\n",
       "    }\n",
       "\n",
       "    .dataframe tbody tr th {\n",
       "        vertical-align: top;\n",
       "    }\n",
       "\n",
       "    .dataframe thead th {\n",
       "        text-align: right;\n",
       "    }\n",
       "</style>\n",
       "<table border=\"1\" class=\"dataframe\">\n",
       "  <thead>\n",
       "    <tr style=\"text-align: right;\">\n",
       "      <th></th>\n",
       "      <th>question</th>\n",
       "      <th>answers</th>\n",
       "      <th>subject</th>\n",
       "      <th>id</th>\n",
       "      <th>correct_answers</th>\n",
       "    </tr>\n",
       "  </thead>\n",
       "  <tbody>\n",
       "    <tr>\n",
       "      <th>0</th>\n",
       "      <td>«Сміхом крізь сльози» можна схарактеризувати з...</td>\n",
       "      <td>[{'marker': 'А', 'text': '«Три зозулі з поклон...</td>\n",
       "      <td>ukrainian-language-and-literature</td>\n",
       "      <td>0</td>\n",
       "      <td>[Б]</td>\n",
       "    </tr>\n",
       "    <tr>\n",
       "      <th>1</th>\n",
       "      <td>Удовин син, мати, сестра, кохана – ключові обр...</td>\n",
       "      <td>[{'marker': 'А', 'text': '«Засвіт встали козач...</td>\n",
       "      <td>ukrainian-language-and-literature</td>\n",
       "      <td>1</td>\n",
       "      <td>[В]</td>\n",
       "    </tr>\n",
       "    <tr>\n",
       "      <th>2</th>\n",
       "      <td>В уривку з історичного джерела «*Створивши бан...</td>\n",
       "      <td>[{'marker': 'А', 'text': 'Правобережної Україн...</td>\n",
       "      <td>history-of-ukraine</td>\n",
       "      <td>2</td>\n",
       "      <td>[А]</td>\n",
       "    </tr>\n",
       "    <tr>\n",
       "      <th>3</th>\n",
       "      <td>В уривку\\n\\n\\n*Доки буде жити Україна\\n\\nВ теп...</td>\n",
       "      <td>[{'marker': 'А', 'text': 'Василя Стефаника'}, ...</td>\n",
       "      <td>ukrainian-language-and-literature</td>\n",
       "      <td>3</td>\n",
       "      <td>[Д]</td>\n",
       "    </tr>\n",
       "    <tr>\n",
       "      <th>4</th>\n",
       "      <td>Букву ***и*** на місці пропуску треба писати в...</td>\n",
       "      <td>[{'marker': 'А', 'text': 'пр….хований, пр…звис...</td>\n",
       "      <td>ukrainian-language-and-literature</td>\n",
       "      <td>4</td>\n",
       "      <td>[В]</td>\n",
       "    </tr>\n",
       "    <tr>\n",
       "      <th>...</th>\n",
       "      <td>...</td>\n",
       "      <td>...</td>\n",
       "      <td>...</td>\n",
       "      <td>...</td>\n",
       "      <td>...</td>\n",
       "    </tr>\n",
       "    <tr>\n",
       "      <th>746</th>\n",
       "      <td>Укажіть правильний варіант послідовного заповн...</td>\n",
       "      <td>[{'marker': 'А', 'text': 'дієвих прийомів, які...</td>\n",
       "      <td>ukrainian-language-and-literature</td>\n",
       "      <td>746</td>\n",
       "      <td>[Г]</td>\n",
       "    </tr>\n",
       "    <tr>\n",
       "      <th>747</th>\n",
       "      <td>**Проаналізуйте фрагмент історичного документа...</td>\n",
       "      <td>[{'marker': 'А', 'text': 'Українська головна в...</td>\n",
       "      <td>history-of-ukraine</td>\n",
       "      <td>747</td>\n",
       "      <td>[Г]</td>\n",
       "    </tr>\n",
       "    <tr>\n",
       "      <th>748</th>\n",
       "      <td>Прочитайте речення *(цифра позначає наступне с...</td>\n",
       "      <td>[{'marker': 'А', 'text': '3, 4, 5, 10'}, {'mar...</td>\n",
       "      <td>ukrainian-language-and-literature</td>\n",
       "      <td>748</td>\n",
       "      <td>[В]</td>\n",
       "    </tr>\n",
       "    <tr>\n",
       "      <th>749</th>\n",
       "      <td>Граматично правильне продовження речення «*Пер...</td>\n",
       "      <td>[{'marker': 'А', 'text': 'мені пригадалися дав...</td>\n",
       "      <td>ukrainian-language-and-literature</td>\n",
       "      <td>749</td>\n",
       "      <td>[А]</td>\n",
       "    </tr>\n",
       "    <tr>\n",
       "      <th>750</th>\n",
       "      <td>Прочитайте уривок джерела.\\n\\n\\n«*У Московщині...</td>\n",
       "      <td>[{'marker': 'А', 'text': 'Зборівського договор...</td>\n",
       "      <td>history-of-ukraine</td>\n",
       "      <td>750</td>\n",
       "      <td>[А]</td>\n",
       "    </tr>\n",
       "  </tbody>\n",
       "</table>\n",
       "<p>751 rows × 5 columns</p>\n",
       "</div>"
      ]
     },
     "execution_count": 13,
     "metadata": {},
     "output_type": "execute_result"
    }
   ],
   "execution_count": 13
  },
  {
   "cell_type": "code",
   "source": [
    "submission_df['correct_answers'] = submission_df['correct_answers'].apply(lambda x: x[0])\n",
    "submission_df[[\"id\", \"correct_answers\"]].to_csv(\"submission-baseline.csv\", index=False)"
   ],
   "metadata": {
    "trusted": true,
    "execution": {
     "iopub.status.busy": "2025-01-16T21:26:21.873889Z",
     "iopub.execute_input": "2025-01-16T21:26:21.874197Z",
     "iopub.status.idle": "2025-01-16T21:26:21.880935Z",
     "shell.execute_reply.started": "2025-01-16T21:26:21.874174Z",
     "shell.execute_reply": "2025-01-16T21:26:21.879772Z"
    },
    "ExecuteTime": {
     "end_time": "2025-01-18T20:29:27.020777Z",
     "start_time": "2025-01-18T20:29:27.014068Z"
    }
   },
   "outputs": [],
   "execution_count": 14
  },
  {
   "metadata": {},
   "cell_type": "code",
   "outputs": [],
   "execution_count": null,
   "source": ""
  }
 ]
}
