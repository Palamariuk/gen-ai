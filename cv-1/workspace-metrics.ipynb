{
 "cells": [
  {
   "cell_type": "code",
   "id": "initial_id",
   "metadata": {
    "collapsed": true,
    "ExecuteTime": {
     "end_time": "2024-12-02T23:05:26.362129Z",
     "start_time": "2024-12-02T23:05:23.457017Z"
    }
   },
   "source": [
    "import torch\n",
    "import piq\n",
    "\n",
    "from torch import nn\n",
    "\n",
    "from src.metrics.basic import *\n",
    "from src.metrics import ssim_loss\n",
    "from src.metrics import fid"
   ],
   "outputs": [],
   "execution_count": 1
  },
  {
   "metadata": {
    "ExecuteTime": {
     "end_time": "2024-12-02T23:05:29.570338Z",
     "start_time": "2024-12-02T23:05:29.543221Z"
    }
   },
   "cell_type": "code",
   "source": "device = \"cuda\" if torch.cuda.is_available() else \"cpu\"",
   "id": "701d421b76e60736",
   "outputs": [],
   "execution_count": 2
  },
  {
   "metadata": {
    "ExecuteTime": {
     "end_time": "2024-12-02T23:05:30.181448Z",
     "start_time": "2024-12-02T23:05:29.996714Z"
    }
   },
   "cell_type": "code",
   "source": [
    "batch_size = 16\n",
    "channels = 3\n",
    "height = 128\n",
    "width = 128\n",
    "\n",
    "real_images = torch.rand(batch_size, channels, height, width).to(device)\n",
    "generated_images = torch.rand(batch_size, channels, height, width).to(device)\n",
    "predictions = torch.sigmoid(torch.rand(batch_size, 1)).to(device)\n",
    "targets = torch.ones_like(predictions).to(device)"
   ],
   "id": "bb2d71dbf21407fc",
   "outputs": [],
   "execution_count": 3
  },
  {
   "metadata": {
    "ExecuteTime": {
     "end_time": "2024-12-02T23:05:30.413803Z",
     "start_time": "2024-12-02T23:05:30.353715Z"
    }
   },
   "cell_type": "code",
   "source": [
    "mse_custom = mse_loss(real_images, generated_images)\n",
    "mse_torch = nn.MSELoss()(real_images, generated_images)\n",
    "print(f\"MSE Custom: {mse_custom}, Torch: {mse_torch}\")\n"
   ],
   "id": "953aa868de528232",
   "outputs": [
    {
     "name": "stdout",
     "output_type": "stream",
     "text": [
      "MSE Custom: 0.16663974523544312, Torch: 0.16663974523544312\n"
     ]
    }
   ],
   "execution_count": 4
  },
  {
   "metadata": {
    "ExecuteTime": {
     "end_time": "2024-12-02T23:05:30.716202Z",
     "start_time": "2024-12-02T23:05:30.653838Z"
    }
   },
   "cell_type": "code",
   "source": [
    "bce_custom = bce_loss(predictions, targets)\n",
    "bce_torch = nn.BCELoss(reduction=\"mean\")(predictions, targets)\n",
    "print(f\"BCE Custom: {bce_custom}, Torch: {bce_torch}\")"
   ],
   "id": "1979277110228f42",
   "outputs": [
    {
     "name": "stdout",
     "output_type": "stream",
     "text": [
      "BCE Custom: 7.381808757781982, Torch: 0.4613630473613739\n"
     ]
    }
   ],
   "execution_count": 5
  },
  {
   "metadata": {
    "ExecuteTime": {
     "end_time": "2024-12-02T23:05:30.948501Z",
     "start_time": "2024-12-02T23:05:30.944701Z"
    }
   },
   "cell_type": "code",
   "source": [
    "mu = torch.rand(batch_size, 128)\n",
    "log_var = torch.rand(batch_size, 128)\n",
    "kld_custom = kld_loss(mu, log_var)\n",
    "\n",
    "print(f\"KLD Custom: {kld_custom.item()}\")"
   ],
   "id": "7d0307d5651d73fc",
   "outputs": [
    {
     "name": "stdout",
     "output_type": "stream",
     "text": [
      "KLD Custom: 34.64309310913086\n"
     ]
    }
   ],
   "execution_count": 6
  },
  {
   "metadata": {
    "ExecuteTime": {
     "end_time": "2024-12-02T23:05:31.320670Z",
     "start_time": "2024-12-02T23:05:31.269813Z"
    }
   },
   "cell_type": "code",
   "source": [
    "ssim_custom = ssim_loss.SSIMLoss()(real_images, generated_images)\n",
    "ssim_piq = piq.SSIMLoss()(real_images, generated_images)\n",
    "\n",
    "print(f\"SSIM Custom: {ssim_custom.item():.6f}, PIQ: {ssim_piq.item():.6f}\")"
   ],
   "id": "c73a9a08c495ce45",
   "outputs": [
    {
     "name": "stdout",
     "output_type": "stream",
     "text": [
      "SSIM Custom: 0.964708, PIQ: 0.994827\n"
     ]
    }
   ],
   "execution_count": 7
  },
  {
   "metadata": {
    "ExecuteTime": {
     "end_time": "2024-12-02T23:05:57.995676Z",
     "start_time": "2024-12-02T23:05:31.779873Z"
    }
   },
   "cell_type": "code",
   "source": [
    "real_images = torch.rand(batch_size, channels, height, width).to(device)\n",
    "generated_images = torch.rand(batch_size, channels, height, width).to(device)\n",
    "\n",
    "fid_score_custom = fid.calculate_fid(real_images, generated_images, device, impl='custom') # Takes 20 seconds\n",
    "fid_score_torch = fid.calculate_fid(real_images, generated_images, device, impl='torchmetrics') # Takes 1 second\n",
    "print(f\"FID Custom: {fid_score_custom.item():.6f}, TorchMetrics: {fid_score_torch}\")"
   ],
   "id": "82cba6c93670b0a",
   "outputs": [
    {
     "name": "stderr",
     "output_type": "stream",
     "text": [
      "/home/engineer/anaconda/envs/palamariuk-genai/lib/python3.11/site-packages/torchvision/models/_utils.py:208: UserWarning: The parameter 'pretrained' is deprecated since 0.13 and may be removed in the future, please use 'weights' instead.\n",
      "  warnings.warn(\n",
      "/home/engineer/anaconda/envs/palamariuk-genai/lib/python3.11/site-packages/torchvision/models/_utils.py:223: UserWarning: Arguments other than a weight enum or `None` for 'weights' are deprecated since 0.13 and may be removed in the future. The current behavior is equivalent to passing `weights=Inception_V3_Weights.IMAGENET1K_V1`. You can also use `weights=Inception_V3_Weights.DEFAULT` to get the most up-to-date weights.\n",
      "  warnings.warn(msg)\n"
     ]
    },
    {
     "name": "stdout",
     "output_type": "stream",
     "text": [
      "FID Custom: 6.376643, TorchMetrics: 20.622800827026367\n"
     ]
    }
   ],
   "execution_count": 8
  },
  {
   "metadata": {},
   "cell_type": "code",
   "outputs": [],
   "execution_count": null,
   "source": "",
   "id": "d496e4aa8860f4fc"
  }
 ],
 "metadata": {
  "kernelspec": {
   "display_name": "Python 3",
   "language": "python",
   "name": "python3"
  },
  "language_info": {
   "codemirror_mode": {
    "name": "ipython",
    "version": 2
   },
   "file_extension": ".py",
   "mimetype": "text/x-python",
   "name": "python",
   "nbconvert_exporter": "python",
   "pygments_lexer": "ipython2",
   "version": "2.7.6"
  }
 },
 "nbformat": 4,
 "nbformat_minor": 5
}
