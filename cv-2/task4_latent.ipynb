{
 "metadata": {
  "kernelspec": {
   "name": "python3",
   "display_name": "Python 3",
   "language": "python"
  },
  "language_info": {
   "name": "python",
   "version": "3.10.12",
   "mimetype": "text/x-python",
   "codemirror_mode": {
    "name": "ipython",
    "version": 3
   },
   "pygments_lexer": "ipython3",
   "nbconvert_exporter": "python",
   "file_extension": ".py"
  },
  "accelerator": "GPU",
  "colab": {
   "gpuType": "T4",
   "provenance": []
  },
  "widgets": {
   "application/vnd.jupyter.widget-state+json": {
    "3ef23c3e9b8343f2906ed6f4fc1ea9d9": {
     "model_module": "@jupyter-widgets/controls",
     "model_name": "HBoxModel",
     "model_module_version": "1.5.0",
     "state": {
      "_dom_classes": [],
      "_model_module": "@jupyter-widgets/controls",
      "_model_module_version": "1.5.0",
      "_model_name": "HBoxModel",
      "_view_count": null,
      "_view_module": "@jupyter-widgets/controls",
      "_view_module_version": "1.5.0",
      "_view_name": "HBoxView",
      "box_style": "",
      "children": [
       "IPY_MODEL_274f03e31df14c0a80f5a76441d9d595",
       "IPY_MODEL_97b28ae72ed743c7ad7451abb3b504e1",
       "IPY_MODEL_48f34ef0683d42c0a180af79210c00ba"
      ],
      "layout": "IPY_MODEL_68f91171835e4e4eacdfa8ef627ef038"
     }
    },
    "274f03e31df14c0a80f5a76441d9d595": {
     "model_module": "@jupyter-widgets/controls",
     "model_name": "HTMLModel",
     "model_module_version": "1.5.0",
     "state": {
      "_dom_classes": [],
      "_model_module": "@jupyter-widgets/controls",
      "_model_module_version": "1.5.0",
      "_model_name": "HTMLModel",
      "_view_count": null,
      "_view_module": "@jupyter-widgets/controls",
      "_view_module_version": "1.5.0",
      "_view_name": "HTMLView",
      "description": "",
      "description_tooltip": null,
      "layout": "IPY_MODEL_20d37eebd1d34686a78d4a8a070743cf",
      "placeholder": "​",
      "style": "IPY_MODEL_81dfdf750c6144a7ae1a785c25cb00d9",
      "value": "Epoch 0:   2%"
     }
    },
    "97b28ae72ed743c7ad7451abb3b504e1": {
     "model_module": "@jupyter-widgets/controls",
     "model_name": "FloatProgressModel",
     "model_module_version": "1.5.0",
     "state": {
      "_dom_classes": [],
      "_model_module": "@jupyter-widgets/controls",
      "_model_module_version": "1.5.0",
      "_model_name": "FloatProgressModel",
      "_view_count": null,
      "_view_module": "@jupyter-widgets/controls",
      "_view_module_version": "1.5.0",
      "_view_name": "ProgressView",
      "bar_style": "",
      "description": "",
      "description_tooltip": null,
      "layout": "IPY_MODEL_c00c16935f81400589e6ac9231aa48d2",
      "max": 469,
      "min": 0,
      "orientation": "horizontal",
      "style": "IPY_MODEL_c16dfd0ac5ad48428d688e7b52b4e92d",
      "value": 8
     }
    },
    "48f34ef0683d42c0a180af79210c00ba": {
     "model_module": "@jupyter-widgets/controls",
     "model_name": "HTMLModel",
     "model_module_version": "1.5.0",
     "state": {
      "_dom_classes": [],
      "_model_module": "@jupyter-widgets/controls",
      "_model_module_version": "1.5.0",
      "_model_name": "HTMLModel",
      "_view_count": null,
      "_view_module": "@jupyter-widgets/controls",
      "_view_module_version": "1.5.0",
      "_view_name": "HTMLView",
      "description": "",
      "description_tooltip": null,
      "layout": "IPY_MODEL_d7260c4c512d4ddd930abb0930148d79",
      "placeholder": "​",
      "style": "IPY_MODEL_d816bcbe56164d76a926600603dfd280",
      "value": " 8/469 [02:39&lt;2:33:14,  0.05it/s, v_num=1]"
     }
    },
    "68f91171835e4e4eacdfa8ef627ef038": {
     "model_module": "@jupyter-widgets/base",
     "model_name": "LayoutModel",
     "model_module_version": "1.2.0",
     "state": {
      "_model_module": "@jupyter-widgets/base",
      "_model_module_version": "1.2.0",
      "_model_name": "LayoutModel",
      "_view_count": null,
      "_view_module": "@jupyter-widgets/base",
      "_view_module_version": "1.2.0",
      "_view_name": "LayoutView",
      "align_content": null,
      "align_items": null,
      "align_self": null,
      "border": null,
      "bottom": null,
      "display": "inline-flex",
      "flex": null,
      "flex_flow": "row wrap",
      "grid_area": null,
      "grid_auto_columns": null,
      "grid_auto_flow": null,
      "grid_auto_rows": null,
      "grid_column": null,
      "grid_gap": null,
      "grid_row": null,
      "grid_template_areas": null,
      "grid_template_columns": null,
      "grid_template_rows": null,
      "height": null,
      "justify_content": null,
      "justify_items": null,
      "left": null,
      "margin": null,
      "max_height": null,
      "max_width": null,
      "min_height": null,
      "min_width": null,
      "object_fit": null,
      "object_position": null,
      "order": null,
      "overflow": null,
      "overflow_x": null,
      "overflow_y": null,
      "padding": null,
      "right": null,
      "top": null,
      "visibility": null,
      "width": "100%"
     }
    },
    "20d37eebd1d34686a78d4a8a070743cf": {
     "model_module": "@jupyter-widgets/base",
     "model_name": "LayoutModel",
     "model_module_version": "1.2.0",
     "state": {
      "_model_module": "@jupyter-widgets/base",
      "_model_module_version": "1.2.0",
      "_model_name": "LayoutModel",
      "_view_count": null,
      "_view_module": "@jupyter-widgets/base",
      "_view_module_version": "1.2.0",
      "_view_name": "LayoutView",
      "align_content": null,
      "align_items": null,
      "align_self": null,
      "border": null,
      "bottom": null,
      "display": null,
      "flex": null,
      "flex_flow": null,
      "grid_area": null,
      "grid_auto_columns": null,
      "grid_auto_flow": null,
      "grid_auto_rows": null,
      "grid_column": null,
      "grid_gap": null,
      "grid_row": null,
      "grid_template_areas": null,
      "grid_template_columns": null,
      "grid_template_rows": null,
      "height": null,
      "justify_content": null,
      "justify_items": null,
      "left": null,
      "margin": null,
      "max_height": null,
      "max_width": null,
      "min_height": null,
      "min_width": null,
      "object_fit": null,
      "object_position": null,
      "order": null,
      "overflow": null,
      "overflow_x": null,
      "overflow_y": null,
      "padding": null,
      "right": null,
      "top": null,
      "visibility": null,
      "width": null
     }
    },
    "81dfdf750c6144a7ae1a785c25cb00d9": {
     "model_module": "@jupyter-widgets/controls",
     "model_name": "DescriptionStyleModel",
     "model_module_version": "1.5.0",
     "state": {
      "_model_module": "@jupyter-widgets/controls",
      "_model_module_version": "1.5.0",
      "_model_name": "DescriptionStyleModel",
      "_view_count": null,
      "_view_module": "@jupyter-widgets/base",
      "_view_module_version": "1.2.0",
      "_view_name": "StyleView",
      "description_width": ""
     }
    },
    "c00c16935f81400589e6ac9231aa48d2": {
     "model_module": "@jupyter-widgets/base",
     "model_name": "LayoutModel",
     "model_module_version": "1.2.0",
     "state": {
      "_model_module": "@jupyter-widgets/base",
      "_model_module_version": "1.2.0",
      "_model_name": "LayoutModel",
      "_view_count": null,
      "_view_module": "@jupyter-widgets/base",
      "_view_module_version": "1.2.0",
      "_view_name": "LayoutView",
      "align_content": null,
      "align_items": null,
      "align_self": null,
      "border": null,
      "bottom": null,
      "display": null,
      "flex": "2",
      "flex_flow": null,
      "grid_area": null,
      "grid_auto_columns": null,
      "grid_auto_flow": null,
      "grid_auto_rows": null,
      "grid_column": null,
      "grid_gap": null,
      "grid_row": null,
      "grid_template_areas": null,
      "grid_template_columns": null,
      "grid_template_rows": null,
      "height": null,
      "justify_content": null,
      "justify_items": null,
      "left": null,
      "margin": null,
      "max_height": null,
      "max_width": null,
      "min_height": null,
      "min_width": null,
      "object_fit": null,
      "object_position": null,
      "order": null,
      "overflow": null,
      "overflow_x": null,
      "overflow_y": null,
      "padding": null,
      "right": null,
      "top": null,
      "visibility": null,
      "width": null
     }
    },
    "c16dfd0ac5ad48428d688e7b52b4e92d": {
     "model_module": "@jupyter-widgets/controls",
     "model_name": "ProgressStyleModel",
     "model_module_version": "1.5.0",
     "state": {
      "_model_module": "@jupyter-widgets/controls",
      "_model_module_version": "1.5.0",
      "_model_name": "ProgressStyleModel",
      "_view_count": null,
      "_view_module": "@jupyter-widgets/base",
      "_view_module_version": "1.2.0",
      "_view_name": "StyleView",
      "bar_color": null,
      "description_width": ""
     }
    },
    "d7260c4c512d4ddd930abb0930148d79": {
     "model_module": "@jupyter-widgets/base",
     "model_name": "LayoutModel",
     "model_module_version": "1.2.0",
     "state": {
      "_model_module": "@jupyter-widgets/base",
      "_model_module_version": "1.2.0",
      "_model_name": "LayoutModel",
      "_view_count": null,
      "_view_module": "@jupyter-widgets/base",
      "_view_module_version": "1.2.0",
      "_view_name": "LayoutView",
      "align_content": null,
      "align_items": null,
      "align_self": null,
      "border": null,
      "bottom": null,
      "display": null,
      "flex": null,
      "flex_flow": null,
      "grid_area": null,
      "grid_auto_columns": null,
      "grid_auto_flow": null,
      "grid_auto_rows": null,
      "grid_column": null,
      "grid_gap": null,
      "grid_row": null,
      "grid_template_areas": null,
      "grid_template_columns": null,
      "grid_template_rows": null,
      "height": null,
      "justify_content": null,
      "justify_items": null,
      "left": null,
      "margin": null,
      "max_height": null,
      "max_width": null,
      "min_height": null,
      "min_width": null,
      "object_fit": null,
      "object_position": null,
      "order": null,
      "overflow": null,
      "overflow_x": null,
      "overflow_y": null,
      "padding": null,
      "right": null,
      "top": null,
      "visibility": null,
      "width": null
     }
    },
    "d816bcbe56164d76a926600603dfd280": {
     "model_module": "@jupyter-widgets/controls",
     "model_name": "DescriptionStyleModel",
     "model_module_version": "1.5.0",
     "state": {
      "_model_module": "@jupyter-widgets/controls",
      "_model_module_version": "1.5.0",
      "_model_name": "DescriptionStyleModel",
      "_view_count": null,
      "_view_module": "@jupyter-widgets/base",
      "_view_module_version": "1.2.0",
      "_view_name": "StyleView",
      "description_width": ""
     }
    }
   }
  },
  "kaggle": {
   "accelerator": "nvidiaTeslaT4",
   "dataSources": [],
   "dockerImageVersionId": 30887,
   "isInternetEnabled": true,
   "language": "python",
   "sourceType": "notebook",
   "isGpuEnabled": true
  }
 },
 "nbformat_minor": 4,
 "nbformat": 4,
 "cells": [
  {
   "metadata": {
    "ExecuteTime": {
     "end_time": "2025-02-20T21:02:18.850465Z",
     "start_time": "2025-02-20T21:02:16.075671Z"
    }
   },
   "cell_type": "code",
   "source": [
    "import sys\n",
    "\n",
    "sys.path.append(\".\")\n",
    "\n",
    "import matplotlib.pyplot as plt\n",
    "\n",
    "import torchvision\n",
    "import torchvision.transforms as transforms\n",
    "from torch.utils.data import DataLoader\n",
    "\n",
    "from src.models.unet import UNet\n",
    "from src.models.vae import *\n",
    "from src.modules.latent_rectified_flow import LatentRectifiedFlowModule\n",
    "from src.modules.autoencoder import AutoEncoder\n",
    "\n",
    "import pytorch_lightning as pl\n",
    "\n",
    "import sys\n",
    "\n",
    "sys.path.append(\".\")"
   ],
   "outputs": [
    {
     "name": "stderr",
     "output_type": "stream",
     "text": [
      "/home/engineer/anaconda/envs/palamariuk-genai/lib/python3.11/site-packages/tqdm/auto.py:21: TqdmWarning: IProgress not found. Please update jupyter and ipywidgets. See https://ipywidgets.readthedocs.io/en/stable/user_install.html\n",
      "  from .autonotebook import tqdm as notebook_tqdm\n"
     ]
    }
   ],
   "execution_count": 1
  },
  {
   "metadata": {
    "ExecuteTime": {
     "end_time": "2025-02-20T21:02:19.777818Z",
     "start_time": "2025-02-20T21:02:19.694217Z"
    }
   },
   "cell_type": "code",
   "source": [
    "transform = transforms.Compose([transforms.ToTensor(), transforms.Normalize((0.5,), (0.5,))])\n",
    "\n",
    "train_dataset = torchvision.datasets.MNIST(root=\"./data\", train=True, transform=transform, download=True)\n",
    "train_loader = DataLoader(train_dataset, batch_size=256, shuffle=True)"
   ],
   "outputs": [],
   "execution_count": 2
  },
  {
   "cell_type": "code",
   "source": [
    "device = torch.device('cuda' if torch.cuda.is_available() else 'cpu')\n",
    "print(f'Device: {device}\\n')"
   ],
   "metadata": {
    "ExecuteTime": {
     "end_time": "2025-02-20T21:02:20.013013Z",
     "start_time": "2025-02-20T21:02:19.959527Z"
    }
   },
   "outputs": [
    {
     "name": "stdout",
     "output_type": "stream",
     "text": [
      "Device: cuda\n",
      "\n"
     ]
    }
   ],
   "execution_count": 3
  },
  {
   "cell_type": "markdown",
   "source": [
    "# 4\n",
    "\n",
    "(10pt.) Implement and train diffusion model (pixel and latent based) using Rectified Flow"
   ],
   "metadata": {}
  },
  {
   "metadata": {
    "ExecuteTime": {
     "end_time": "2025-02-20T21:02:23.625205Z",
     "start_time": "2025-02-20T21:02:23.490590Z"
    }
   },
   "cell_type": "code",
   "source": [
    "vae = VariationalAutoEncoder(in_channels=1).to(device)\n",
    "autoencoder = AutoEncoder(vae, lr=1e-3).to(device)\n",
    "autoencoder.vae = torch.load('models/weights/vae_100.pth', weights_only=False).to(device)"
   ],
   "outputs": [
    {
     "name": "stderr",
     "output_type": "stream",
     "text": [
      "/home/engineer/anaconda/envs/palamariuk-genai/lib/python3.11/site-packages/pytorch_lightning/utilities/parsing.py:209: Attribute 'vae' is an instance of `nn.Module` and is already saved during checkpointing. It is recommended to ignore them using `self.save_hyperparameters(ignore=['vae'])`.\n"
     ]
    }
   ],
   "execution_count": 4
  },
  {
   "metadata": {
    "ExecuteTime": {
     "end_time": "2025-02-20T21:02:49.829709Z",
     "start_time": "2025-02-20T21:02:49.687122Z"
    }
   },
   "cell_type": "code",
   "source": [
    "model_flow = UNet(\n",
    "    in_channels=1,\n",
    "    out_channels=1,\n",
    "    base_channels=64,\n",
    "    channel_mults=(1, 2, 4),\n",
    "    num_res_blocks=2,\n",
    "    time_emb_dim=256\n",
    ").to(device)\n",
    "\n",
    "flow_module = LatentRectifiedFlowModule(model=model_flow, autoencoder=autoencoder, latent_dim=64, lr=1e-3, mode=\"flow\").to(device)"
   ],
   "outputs": [],
   "execution_count": 5
  },
  {
   "metadata": {
    "ExecuteTime": {
     "end_time": "2025-02-20T21:18:01.211145Z",
     "start_time": "2025-02-20T21:08:44.741425Z"
    }
   },
   "cell_type": "code",
   "source": [
    "retrain = True\n",
    "\n",
    "if retrain:\n",
    "    trainer = pl.Trainer(max_epochs=40, accelerator=\"gpu\" if torch.cuda.is_available() else \"cpu\")\n",
    "    trainer.fit(flow_module, train_loader)\n",
    "    torch.save(flow_module.model, 'models/weights/latent_flow_model.pth')\n",
    "else:\n",
    "    flow_module.model = torch.load('models/weights/latent_flow_model.pth', weights_only=False).to(device)"
   ],
   "outputs": [
    {
     "name": "stderr",
     "output_type": "stream",
     "text": [
      "GPU available: True (cuda), used: True\n",
      "TPU available: False, using: 0 TPU cores\n",
      "HPU available: False, using: 0 HPUs\n",
      "LOCAL_RANK: 0 - CUDA_VISIBLE_DEVICES: [1]\n",
      "\n",
      "  | Name        | Type        | Params | Mode \n",
      "----------------------------------------------------\n",
      "0 | model       | UNet        | 13.9 M | eval \n",
      "1 | autoencoder | AutoEncoder | 223 K  | train\n",
      "2 | criterion   | MSELoss     | 0      | train\n",
      "----------------------------------------------------\n",
      "14.1 M    Trainable params\n",
      "0         Non-trainable params\n",
      "14.1 M    Total params\n",
      "56.527    Total estimated model params size (MB)\n",
      "25        Modules in train mode\n",
      "168       Modules in eval mode\n"
     ]
    },
    {
     "name": "stdout",
     "output_type": "stream",
     "text": [
      "Epoch 39: 100%|██████████| 235/235 [00:12<00:00, 18.46it/s, v_num=28]"
     ]
    },
    {
     "name": "stderr",
     "output_type": "stream",
     "text": [
      "`Trainer.fit` stopped: `max_epochs=40` reached.\n"
     ]
    },
    {
     "name": "stdout",
     "output_type": "stream",
     "text": [
      "Epoch 39: 100%|██████████| 235/235 [00:13<00:00, 17.06it/s, v_num=28]\n"
     ]
    }
   ],
   "execution_count": 21
  },
  {
   "metadata": {
    "ExecuteTime": {
     "end_time": "2025-02-20T21:31:00.901280Z",
     "start_time": "2025-02-20T21:31:00.862893Z"
    }
   },
   "cell_type": "code",
   "source": "flow_module = flow_module.to(device)",
   "outputs": [],
   "execution_count": 23
  },
  {
   "metadata": {
    "ExecuteTime": {
     "end_time": "2025-02-20T22:12:09.142875Z",
     "start_time": "2025-02-20T22:12:08.519522Z"
    }
   },
   "cell_type": "code",
   "source": [
    "noise_samples = torch.randn(16, 1, 8, 8, device=device)\n",
    "samples = flow_module.sample(noise_samples, num_steps=100, image=True).cpu()\n",
    "\n",
    "fig, axes = plt.subplots(4, 4, figsize=(5, 5))\n",
    "for i, ax in enumerate(axes.flatten()):\n",
    "    ax.imshow(samples[i, 0], cmap=\"gray\")\n",
    "    ax.axis(\"off\")\n",
    "plt.show()"
   ],
   "outputs": [
    {
     "data": {
      "text/plain": [
       "<Figure size 500x500 with 16 Axes>"
      ],
      "image/png": "[encoded data removed]"
     },
     "metadata": {},
     "output_type": "display_data"
    }
   ],
   "execution_count": 35
  },
  {
   "metadata": {
    "ExecuteTime": {
     "end_time": "2025-02-20T21:32:07.298631Z",
     "start_time": "2025-02-20T21:31:26.675968Z"
    }
   },
   "cell_type": "code",
   "source": [
    "fixed_dataset = flow_module.generate_fixed_pairs(num_fixed=10000, batch_size=256, num_steps=200)\n",
    "fixed_loader = DataLoader(fixed_dataset, batch_size=256, shuffle=True)\n",
    "torch.save(fixed_dataset, \"fixed_pairs_dataset.pt\")"
   ],
   "outputs": [],
   "execution_count": 27
  },
  {
   "metadata": {
    "ExecuteTime": {
     "end_time": "2025-02-20T21:32:07.432847Z",
     "start_time": "2025-02-20T21:32:07.343400Z"
    }
   },
   "cell_type": "code",
   "source": [
    "model_reflow = UNet(\n",
    "    in_channels=1,\n",
    "    out_channels=1,\n",
    "    base_channels=64,\n",
    "    channel_mults=(1, 2, 4),\n",
    "    num_res_blocks=2,\n",
    "    time_emb_dim=256\n",
    ").to(device)\n",
    "\n",
    "reflow_module = LatentRectifiedFlowModule(model=model_reflow, autoencoder=autoencoder, latent_dim=64, lr=1e-3, mode=\"reflow\").to(device)"
   ],
   "outputs": [],
   "execution_count": 28
  },
  {
   "metadata": {
    "ExecuteTime": {
     "end_time": "2025-02-20T21:32:32.875683Z",
     "start_time": "2025-02-20T21:32:07.496305Z"
    }
   },
   "cell_type": "code",
   "source": [
    "retrain = True\n",
    "\n",
    "if retrain:\n",
    "    trainer = pl.Trainer(max_epochs=10, accelerator=\"gpu\" if torch.cuda.is_available() else \"cpu\")\n",
    "    trainer.fit(reflow_module, fixed_loader)\n",
    "    torch.save(reflow_module.model, 'models/weights/reflow_model.pth')\n",
    "else:\n",
    "    reflow_module.model = torch.load('models/weights/reflow_model.pth', weights_only=False).to(device)"
   ],
   "outputs": [
    {
     "name": "stderr",
     "output_type": "stream",
     "text": [
      "GPU available: True (cuda), used: True\n",
      "TPU available: False, using: 0 TPU cores\n",
      "HPU available: False, using: 0 HPUs\n",
      "LOCAL_RANK: 0 - CUDA_VISIBLE_DEVICES: [1]\n",
      "\n",
      "  | Name        | Type        | Params | Mode \n",
      "----------------------------------------------------\n",
      "0 | model       | UNet        | 13.9 M | train\n",
      "1 | autoencoder | AutoEncoder | 223 K  | train\n",
      "2 | criterion   | MSELoss     | 0      | train\n",
      "----------------------------------------------------\n",
      "14.1 M    Trainable params\n",
      "0         Non-trainable params\n",
      "14.1 M    Total params\n",
      "56.527    Total estimated model params size (MB)\n",
      "193       Modules in train mode\n",
      "0         Modules in eval mode\n"
     ]
    },
    {
     "name": "stdout",
     "output_type": "stream",
     "text": [
      "Epoch 9: 100%|██████████| 39/39 [00:01<00:00, 27.94it/s, v_num=29]"
     ]
    },
    {
     "name": "stderr",
     "output_type": "stream",
     "text": [
      "`Trainer.fit` stopped: `max_epochs=10` reached.\n"
     ]
    },
    {
     "name": "stdout",
     "output_type": "stream",
     "text": [
      "Epoch 9: 100%|██████████| 39/39 [00:02<00:00, 15.46it/s, v_num=29]\n"
     ]
    }
   ],
   "execution_count": 29
  },
  {
   "metadata": {
    "ExecuteTime": {
     "end_time": "2025-02-20T21:32:33.600992Z",
     "start_time": "2025-02-20T21:32:33.564777Z"
    }
   },
   "cell_type": "code",
   "source": "reflow_module = reflow_module.to(device)",
   "outputs": [],
   "execution_count": 30
  },
  {
   "metadata": {
    "ExecuteTime": {
     "end_time": "2025-02-20T21:34:33.429572Z",
     "start_time": "2025-02-20T21:34:33.077800Z"
    }
   },
   "cell_type": "code",
   "source": [
    "noise_samples = torch.randn(16, 1, 8, 8, device=device)\n",
    "samples = reflow_module.sample(noise_samples, num_steps=10, image=True).cpu()\n",
    "\n",
    "fig, axes = plt.subplots(4, 4, figsize=(5, 5))\n",
    "for i, ax in enumerate(axes.flatten()):\n",
    "    ax.imshow(samples[i, 0], cmap=\"gray\")\n",
    "    ax.axis(\"off\")\n",
    "plt.show()"
   ],
   "outputs": [
    {
     "data": {
      "text/plain": [
       "<Figure size 500x500 with 16 Axes>"
      ],
      "image/png": "[encoded data removed]"
     },
     "metadata": {},
     "output_type": "display_data"
    }
   ],
   "execution_count": 34
  },
  {
   "metadata": {},
   "cell_type": "code",
   "outputs": [],
   "execution_count": null,
   "source": ""
  }
 ]
}
